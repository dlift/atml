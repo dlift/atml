{
 "cells": [
  {
   "cell_type": "code",
   "execution_count": null,
   "metadata": {},
   "outputs": [],
   "source": [
    "# 세상에는 정형화되어 있지 않은 데이터가 훨씬 많습니다.\n",
    "# 가장 대표적으로는 아래와 같은 텍스트 데이터 일텐데요.\n",
    "# 버락 오바마와 도널드 트럼프의 트윗데이터로 이 두 명을 구분하는 문제를 토대로,\n",
    "# 텍스트 데이터에 대한 처리 -> 그것을 통해서 얻은 데이터를 dlift.io 서비스에 넣어보며 결과를 빠르게 태핑해봅시다."
   ]
  },
  {
   "cell_type": "code",
   "execution_count": null,
   "metadata": {},
   "outputs": [],
   "source": []
  }
 ],
 "metadata": {
  "kernelspec": {
   "display_name": "Python 3",
   "language": "python",
   "name": "python3"
  },
  "language_info": {
   "codemirror_mode": {
    "name": "ipython",
    "version": 3
   },
   "file_extension": ".py",
   "mimetype": "text/x-python",
   "name": "python",
   "nbconvert_exporter": "python",
   "pygments_lexer": "ipython3",
   "version": "3.5.4"
  }
 },
 "nbformat": 4,
 "nbformat_minor": 2
}
